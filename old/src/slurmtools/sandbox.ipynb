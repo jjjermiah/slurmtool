{
 "cells": [
  {
   "cell_type": "code",
   "execution_count": 32,
   "metadata": {},
   "outputs": [],
   "source": [
    "import json\n",
    "from pprint import pprint as print\n",
    "from rich import print"
   ]
  },
  {
   "cell_type": "code",
   "execution_count": 52,
   "metadata": {},
   "outputs": [],
   "source": [
    "# data = json.loads('/Users/bhklab/Documents/GitHub/slurmtools/squeue_output.json')\n",
    "\n",
    "with open('/Users/bhklab/Documents/GitHub/slurmtools/squeue_output.json') as f:\n",
    "    data = json.load(f)\n"
   ]
  },
  {
   "cell_type": "code",
   "execution_count": 53,
   "metadata": {},
   "outputs": [
    {
     "data": {
      "text/plain": [
       "dict_keys(['account', 'accrue_time', 'admin_comment', 'allocating_node', 'array_job_id', 'array_task_id', 'array_max_tasks', 'array_task_string', 'association_id', 'batch_features', 'batch_flag', 'batch_host', 'flags', 'burst_buffer', 'burst_buffer_state', 'cluster', 'cluster_features', 'command', 'comment', 'container', 'container_id', 'contiguous', 'core_spec', 'thread_spec', 'cores_per_socket', 'billable_tres', 'cpus_per_task', 'cpu_frequency_minimum', 'cpu_frequency_maximum', 'cpu_frequency_governor', 'cpus_per_tres', 'cron', 'deadline', 'delay_boot', 'dependency', 'derived_exit_code', 'eligible_time', 'end_time', 'excluded_nodes', 'exit_code', 'extra', 'failed_node', 'features', 'federation_origin', 'federation_siblings_active', 'federation_siblings_viable', 'gres_detail', 'group_id', 'group_name', 'het_job_id', 'het_job_id_set', 'het_job_offset', 'job_id', 'job_resources', 'job_size_str', 'job_state', 'last_sched_evaluation', 'licenses', 'mail_type', 'mail_user', 'max_cpus', 'max_nodes', 'mcs_label', 'memory_per_tres', 'name', 'network', 'nodes', 'nice', 'tasks_per_core', 'tasks_per_tres', 'tasks_per_node', 'tasks_per_socket', 'tasks_per_board', 'cpus', 'node_count', 'tasks', 'partition', 'prefer', 'memory_per_cpu', 'memory_per_node', 'minimum_cpus_per_node', 'minimum_tmp_disk_per_node', 'power', 'preempt_time', 'preemptable_time', 'pre_sus_time', 'priority', 'profile', 'qos', 'reboot', 'required_nodes', 'minimum_switches', 'requeue', 'resize_time', 'restart_cnt', 'resv_name', 'scheduled_nodes', 'selinux_context', 'shared', 'exclusive', 'oversubscribe', 'show_flags', 'sockets_per_board', 'sockets_per_node', 'start_time', 'state_description', 'state_reason', 'standard_error', 'standard_input', 'standard_output', 'submit_time', 'suspend_time', 'system_comment', 'time_limit', 'time_minimum', 'threads_per_core', 'tres_bind', 'tres_freq', 'tres_per_job', 'tres_per_node', 'tres_per_socket', 'tres_per_task', 'tres_req_str', 'tres_alloc_str', 'user_id', 'user_name', 'maximum_switch_wait_time', 'wckey', 'current_working_directory'])"
      ]
     },
     "execution_count": 53,
     "metadata": {},
     "output_type": "execute_result"
    }
   ],
   "source": [
    "data['jobs'][0].keys()"
   ]
  },
  {
   "cell_type": "code",
   "execution_count": 54,
   "metadata": {},
   "outputs": [
    {
     "data": {
      "text/plain": [
       "' Keys of interest\\nname\\njob_id\\njob_name\\njob_state\\nstate_reason\\nuser_id\\nuser_name\\ngroup_name\\npartition\\ncpus\\ntasks\\ncpus_per_task\\nmem_per_cpu\\nmem_per_node\\ncurrent_working_directory\\nstandard_error\\nstandard_input\\nstandard_output\\n'"
      ]
     },
     "execution_count": 54,
     "metadata": {},
     "output_type": "execute_result"
    }
   ],
   "source": [
    "\"\"\" Keys of interest\n",
    "name\n",
    "job_id\n",
    "job_name\n",
    "job_state\n",
    "state_reason\n",
    "user_id\n",
    "user_name\n",
    "group_name\n",
    "partition\n",
    "cpus\n",
    "tasks\n",
    "cpus_per_task\n",
    "mem_per_cpu\n",
    "mem_per_node\n",
    "current_working_directory\n",
    "standard_error\n",
    "standard_input\n",
    "standard_output\n",
    "\"\"\""
   ]
  },
  {
   "cell_type": "code",
   "execution_count": 56,
   "metadata": {},
   "outputs": [
    {
     "data": {
      "text/html": [
       "<pre style=\"white-space:pre;overflow-x:auto;line-height:normal;font-family:Menlo,'DejaVu Sans Mono',consolas,'Courier New',monospace\"><span style=\"font-weight: bold\">{</span>\n",
       "    <span style=\"color: #008000; text-decoration-color: #008000\">'name'</span>: <span style=\"color: #008000; text-decoration-color: #008000\">'/cluster/projects/bhklab/disk-usage/ncdu_scron'</span>,\n",
       "    <span style=\"color: #008000; text-decoration-color: #008000\">'job_id'</span>: <span style=\"color: #008080; text-decoration-color: #008080; font-weight: bold\">11716027</span>,\n",
       "    <span style=\"color: #008000; text-decoration-color: #008000\">'job_name'</span>: <span style=\"color: #800080; text-decoration-color: #800080; font-style: italic\">None</span>,\n",
       "    <span style=\"color: #008000; text-decoration-color: #008000\">'job_state'</span>: <span style=\"font-weight: bold\">[</span><span style=\"color: #008000; text-decoration-color: #008000\">'PENDING'</span><span style=\"font-weight: bold\">]</span>,\n",
       "    <span style=\"color: #008000; text-decoration-color: #008000\">'state_reason'</span>: <span style=\"color: #008000; text-decoration-color: #008000\">'BeginTime'</span>,\n",
       "    <span style=\"color: #008000; text-decoration-color: #008000\">'user_id'</span>: <span style=\"color: #008080; text-decoration-color: #008080; font-weight: bold\">90322</span>,\n",
       "    <span style=\"color: #008000; text-decoration-color: #008000\">'user_name'</span>: <span style=\"color: #008000; text-decoration-color: #008000\">'t119797uhn'</span>,\n",
       "    <span style=\"color: #008000; text-decoration-color: #008000\">'group_name'</span>: <span style=\"color: #008000; text-decoration-color: #008000\">'bhklab'</span>,\n",
       "    <span style=\"color: #008000; text-decoration-color: #008000\">'partition'</span>: <span style=\"color: #008000; text-decoration-color: #008000\">'all'</span>,\n",
       "    <span style=\"color: #008000; text-decoration-color: #008000\">'cpus'</span>: <span style=\"font-weight: bold\">{</span><span style=\"color: #008000; text-decoration-color: #008000\">'set'</span>: <span style=\"color: #00ff00; text-decoration-color: #00ff00; font-style: italic\">True</span>, <span style=\"color: #008000; text-decoration-color: #008000\">'infinite'</span>: <span style=\"color: #ff0000; text-decoration-color: #ff0000; font-style: italic\">False</span>, <span style=\"color: #008000; text-decoration-color: #008000\">'number'</span>: <span style=\"color: #008080; text-decoration-color: #008080; font-weight: bold\">1</span><span style=\"font-weight: bold\">}</span>,\n",
       "    <span style=\"color: #008000; text-decoration-color: #008000\">'cpus_per_task'</span>: <span style=\"font-weight: bold\">{</span><span style=\"color: #008000; text-decoration-color: #008000\">'set'</span>: <span style=\"color: #00ff00; text-decoration-color: #00ff00; font-style: italic\">True</span>, <span style=\"color: #008000; text-decoration-color: #008000\">'infinite'</span>: <span style=\"color: #ff0000; text-decoration-color: #ff0000; font-style: italic\">False</span>, <span style=\"color: #008000; text-decoration-color: #008000\">'number'</span>: <span style=\"color: #008080; text-decoration-color: #008080; font-weight: bold\">1</span><span style=\"font-weight: bold\">}</span>,\n",
       "    <span style=\"color: #008000; text-decoration-color: #008000\">'memory_per_cpu'</span>: <span style=\"font-weight: bold\">{</span><span style=\"color: #008000; text-decoration-color: #008000\">'set'</span>: <span style=\"color: #00ff00; text-decoration-color: #00ff00; font-style: italic\">True</span>, <span style=\"color: #008000; text-decoration-color: #008000\">'infinite'</span>: <span style=\"color: #ff0000; text-decoration-color: #ff0000; font-style: italic\">False</span>, <span style=\"color: #008000; text-decoration-color: #008000\">'number'</span>: <span style=\"color: #008080; text-decoration-color: #008080; font-weight: bold\">256</span><span style=\"font-weight: bold\">}</span>,\n",
       "    <span style=\"color: #008000; text-decoration-color: #008000\">'memory_per_node'</span>: <span style=\"font-weight: bold\">{</span><span style=\"color: #008000; text-decoration-color: #008000\">'set'</span>: <span style=\"color: #ff0000; text-decoration-color: #ff0000; font-style: italic\">False</span>, <span style=\"color: #008000; text-decoration-color: #008000\">'infinite'</span>: <span style=\"color: #ff0000; text-decoration-color: #ff0000; font-style: italic\">False</span>, <span style=\"color: #008000; text-decoration-color: #008000\">'number'</span>: <span style=\"color: #008080; text-decoration-color: #008080; font-weight: bold\">0</span><span style=\"font-weight: bold\">}</span>,\n",
       "    <span style=\"color: #008000; text-decoration-color: #008000\">'submit_time'</span>: <span style=\"font-weight: bold\">{</span><span style=\"color: #008000; text-decoration-color: #008000\">'set'</span>: <span style=\"color: #00ff00; text-decoration-color: #00ff00; font-style: italic\">True</span>, <span style=\"color: #008000; text-decoration-color: #008000\">'infinite'</span>: <span style=\"color: #ff0000; text-decoration-color: #ff0000; font-style: italic\">False</span>, <span style=\"color: #008000; text-decoration-color: #008000\">'number'</span>: <span style=\"color: #008080; text-decoration-color: #008080; font-weight: bold\">1716627603</span><span style=\"font-weight: bold\">}</span>,\n",
       "    <span style=\"color: #008000; text-decoration-color: #008000\">'start_time'</span>: <span style=\"font-weight: bold\">{</span><span style=\"color: #008000; text-decoration-color: #008000\">'set'</span>: <span style=\"color: #00ff00; text-decoration-color: #00ff00; font-style: italic\">True</span>, <span style=\"color: #008000; text-decoration-color: #008000\">'infinite'</span>: <span style=\"color: #ff0000; text-decoration-color: #ff0000; font-style: italic\">False</span>, <span style=\"color: #008000; text-decoration-color: #008000\">'number'</span>: <span style=\"color: #008080; text-decoration-color: #008080; font-weight: bold\">1716714000</span><span style=\"font-weight: bold\">}</span>,\n",
       "    <span style=\"color: #008000; text-decoration-color: #008000\">'end_time'</span>: <span style=\"font-weight: bold\">{</span><span style=\"color: #008000; text-decoration-color: #008000\">'set'</span>: <span style=\"color: #00ff00; text-decoration-color: #00ff00; font-style: italic\">True</span>, <span style=\"color: #008000; text-decoration-color: #008000\">'infinite'</span>: <span style=\"color: #ff0000; text-decoration-color: #ff0000; font-style: italic\">False</span>, <span style=\"color: #008000; text-decoration-color: #008000\">'number'</span>: <span style=\"color: #008080; text-decoration-color: #008080; font-weight: bold\">1716800400</span><span style=\"font-weight: bold\">}</span>,\n",
       "    <span style=\"color: #008000; text-decoration-color: #008000\">'time_limit'</span>: <span style=\"font-weight: bold\">{</span><span style=\"color: #008000; text-decoration-color: #008000\">'set'</span>: <span style=\"color: #00ff00; text-decoration-color: #00ff00; font-style: italic\">True</span>, <span style=\"color: #008000; text-decoration-color: #008000\">'infinite'</span>: <span style=\"color: #ff0000; text-decoration-color: #ff0000; font-style: italic\">False</span>, <span style=\"color: #008000; text-decoration-color: #008000\">'number'</span>: <span style=\"color: #008080; text-decoration-color: #008080; font-weight: bold\">1440</span><span style=\"font-weight: bold\">}</span>,\n",
       "    <span style=\"color: #008000; text-decoration-color: #008000\">'current_working_directory'</span>: <span style=\"color: #008000; text-decoration-color: #008000\">'/cluster/home/t119797uhn'</span>,\n",
       "    <span style=\"color: #008000; text-decoration-color: #008000\">'standard_error'</span>: <span style=\"color: #008000; text-decoration-color: #008000\">'/cluster/home/t119797uhn/slurm-11716027.out'</span>,\n",
       "    <span style=\"color: #008000; text-decoration-color: #008000\">'standard_input'</span>: <span style=\"color: #008000; text-decoration-color: #008000\">'/dev/null'</span>,\n",
       "    <span style=\"color: #008000; text-decoration-color: #008000\">'standard_output'</span>: <span style=\"color: #008000; text-decoration-color: #008000\">'/cluster/home/t119797uhn/slurm-11716027.out'</span>\n",
       "<span style=\"font-weight: bold\">}</span>\n",
       "</pre>\n"
      ],
      "text/plain": [
       "\u001b[1m{\u001b[0m\n",
       "    \u001b[32m'name'\u001b[0m: \u001b[32m'/cluster/projects/bhklab/disk-usage/ncdu_scron'\u001b[0m,\n",
       "    \u001b[32m'job_id'\u001b[0m: \u001b[1;36m11716027\u001b[0m,\n",
       "    \u001b[32m'job_name'\u001b[0m: \u001b[3;35mNone\u001b[0m,\n",
       "    \u001b[32m'job_state'\u001b[0m: \u001b[1m[\u001b[0m\u001b[32m'PENDING'\u001b[0m\u001b[1m]\u001b[0m,\n",
       "    \u001b[32m'state_reason'\u001b[0m: \u001b[32m'BeginTime'\u001b[0m,\n",
       "    \u001b[32m'user_id'\u001b[0m: \u001b[1;36m90322\u001b[0m,\n",
       "    \u001b[32m'user_name'\u001b[0m: \u001b[32m't119797uhn'\u001b[0m,\n",
       "    \u001b[32m'group_name'\u001b[0m: \u001b[32m'bhklab'\u001b[0m,\n",
       "    \u001b[32m'partition'\u001b[0m: \u001b[32m'all'\u001b[0m,\n",
       "    \u001b[32m'cpus'\u001b[0m: \u001b[1m{\u001b[0m\u001b[32m'set'\u001b[0m: \u001b[3;92mTrue\u001b[0m, \u001b[32m'infinite'\u001b[0m: \u001b[3;91mFalse\u001b[0m, \u001b[32m'number'\u001b[0m: \u001b[1;36m1\u001b[0m\u001b[1m}\u001b[0m,\n",
       "    \u001b[32m'cpus_per_task'\u001b[0m: \u001b[1m{\u001b[0m\u001b[32m'set'\u001b[0m: \u001b[3;92mTrue\u001b[0m, \u001b[32m'infinite'\u001b[0m: \u001b[3;91mFalse\u001b[0m, \u001b[32m'number'\u001b[0m: \u001b[1;36m1\u001b[0m\u001b[1m}\u001b[0m,\n",
       "    \u001b[32m'memory_per_cpu'\u001b[0m: \u001b[1m{\u001b[0m\u001b[32m'set'\u001b[0m: \u001b[3;92mTrue\u001b[0m, \u001b[32m'infinite'\u001b[0m: \u001b[3;91mFalse\u001b[0m, \u001b[32m'number'\u001b[0m: \u001b[1;36m256\u001b[0m\u001b[1m}\u001b[0m,\n",
       "    \u001b[32m'memory_per_node'\u001b[0m: \u001b[1m{\u001b[0m\u001b[32m'set'\u001b[0m: \u001b[3;91mFalse\u001b[0m, \u001b[32m'infinite'\u001b[0m: \u001b[3;91mFalse\u001b[0m, \u001b[32m'number'\u001b[0m: \u001b[1;36m0\u001b[0m\u001b[1m}\u001b[0m,\n",
       "    \u001b[32m'submit_time'\u001b[0m: \u001b[1m{\u001b[0m\u001b[32m'set'\u001b[0m: \u001b[3;92mTrue\u001b[0m, \u001b[32m'infinite'\u001b[0m: \u001b[3;91mFalse\u001b[0m, \u001b[32m'number'\u001b[0m: \u001b[1;36m1716627603\u001b[0m\u001b[1m}\u001b[0m,\n",
       "    \u001b[32m'start_time'\u001b[0m: \u001b[1m{\u001b[0m\u001b[32m'set'\u001b[0m: \u001b[3;92mTrue\u001b[0m, \u001b[32m'infinite'\u001b[0m: \u001b[3;91mFalse\u001b[0m, \u001b[32m'number'\u001b[0m: \u001b[1;36m1716714000\u001b[0m\u001b[1m}\u001b[0m,\n",
       "    \u001b[32m'end_time'\u001b[0m: \u001b[1m{\u001b[0m\u001b[32m'set'\u001b[0m: \u001b[3;92mTrue\u001b[0m, \u001b[32m'infinite'\u001b[0m: \u001b[3;91mFalse\u001b[0m, \u001b[32m'number'\u001b[0m: \u001b[1;36m1716800400\u001b[0m\u001b[1m}\u001b[0m,\n",
       "    \u001b[32m'time_limit'\u001b[0m: \u001b[1m{\u001b[0m\u001b[32m'set'\u001b[0m: \u001b[3;92mTrue\u001b[0m, \u001b[32m'infinite'\u001b[0m: \u001b[3;91mFalse\u001b[0m, \u001b[32m'number'\u001b[0m: \u001b[1;36m1440\u001b[0m\u001b[1m}\u001b[0m,\n",
       "    \u001b[32m'current_working_directory'\u001b[0m: \u001b[32m'/cluster/home/t119797uhn'\u001b[0m,\n",
       "    \u001b[32m'standard_error'\u001b[0m: \u001b[32m'/cluster/home/t119797uhn/slurm-11716027.out'\u001b[0m,\n",
       "    \u001b[32m'standard_input'\u001b[0m: \u001b[32m'/dev/null'\u001b[0m,\n",
       "    \u001b[32m'standard_output'\u001b[0m: \u001b[32m'/cluster/home/t119797uhn/slurm-11716027.out'\u001b[0m\n",
       "\u001b[1m}\u001b[0m\n"
      ]
     },
     "metadata": {},
     "output_type": "display_data"
    },
    {
     "data": {
      "text/html": [
       "<pre style=\"white-space:pre;overflow-x:auto;line-height:normal;font-family:Menlo,'DejaVu Sans Mono',consolas,'Courier New',monospace\"><span style=\"font-weight: bold\">{</span>\n",
       "    <span style=\"color: #008000; text-decoration-color: #008000\">'name'</span>: <span style=\"color: #008000; text-decoration-color: #008000\">'/cluster/home/t119797uhn/.local/bin/ncdu'</span>,\n",
       "    <span style=\"color: #008000; text-decoration-color: #008000\">'job_id'</span>: <span style=\"color: #008080; text-decoration-color: #008080; font-weight: bold\">11716028</span>,\n",
       "    <span style=\"color: #008000; text-decoration-color: #008000\">'job_name'</span>: <span style=\"color: #800080; text-decoration-color: #800080; font-style: italic\">None</span>,\n",
       "    <span style=\"color: #008000; text-decoration-color: #008000\">'job_state'</span>: <span style=\"font-weight: bold\">[</span><span style=\"color: #008000; text-decoration-color: #008000\">'PENDING'</span><span style=\"font-weight: bold\">]</span>,\n",
       "    <span style=\"color: #008000; text-decoration-color: #008000\">'state_reason'</span>: <span style=\"color: #008000; text-decoration-color: #008000\">'BeginTime'</span>,\n",
       "    <span style=\"color: #008000; text-decoration-color: #008000\">'user_id'</span>: <span style=\"color: #008080; text-decoration-color: #008080; font-weight: bold\">90322</span>,\n",
       "    <span style=\"color: #008000; text-decoration-color: #008000\">'user_name'</span>: <span style=\"color: #008000; text-decoration-color: #008000\">'t119797uhn'</span>,\n",
       "    <span style=\"color: #008000; text-decoration-color: #008000\">'group_name'</span>: <span style=\"color: #008000; text-decoration-color: #008000\">'bhklab'</span>,\n",
       "    <span style=\"color: #008000; text-decoration-color: #008000\">'partition'</span>: <span style=\"color: #008000; text-decoration-color: #008000\">'all'</span>,\n",
       "    <span style=\"color: #008000; text-decoration-color: #008000\">'cpus'</span>: <span style=\"font-weight: bold\">{</span><span style=\"color: #008000; text-decoration-color: #008000\">'set'</span>: <span style=\"color: #00ff00; text-decoration-color: #00ff00; font-style: italic\">True</span>, <span style=\"color: #008000; text-decoration-color: #008000\">'infinite'</span>: <span style=\"color: #ff0000; text-decoration-color: #ff0000; font-style: italic\">False</span>, <span style=\"color: #008000; text-decoration-color: #008000\">'number'</span>: <span style=\"color: #008080; text-decoration-color: #008080; font-weight: bold\">1</span><span style=\"font-weight: bold\">}</span>,\n",
       "    <span style=\"color: #008000; text-decoration-color: #008000\">'cpus_per_task'</span>: <span style=\"font-weight: bold\">{</span><span style=\"color: #008000; text-decoration-color: #008000\">'set'</span>: <span style=\"color: #00ff00; text-decoration-color: #00ff00; font-style: italic\">True</span>, <span style=\"color: #008000; text-decoration-color: #008000\">'infinite'</span>: <span style=\"color: #ff0000; text-decoration-color: #ff0000; font-style: italic\">False</span>, <span style=\"color: #008000; text-decoration-color: #008000\">'number'</span>: <span style=\"color: #008080; text-decoration-color: #008080; font-weight: bold\">1</span><span style=\"font-weight: bold\">}</span>,\n",
       "    <span style=\"color: #008000; text-decoration-color: #008000\">'memory_per_cpu'</span>: <span style=\"font-weight: bold\">{</span><span style=\"color: #008000; text-decoration-color: #008000\">'set'</span>: <span style=\"color: #00ff00; text-decoration-color: #00ff00; font-style: italic\">True</span>, <span style=\"color: #008000; text-decoration-color: #008000\">'infinite'</span>: <span style=\"color: #ff0000; text-decoration-color: #ff0000; font-style: italic\">False</span>, <span style=\"color: #008000; text-decoration-color: #008000\">'number'</span>: <span style=\"color: #008080; text-decoration-color: #008080; font-weight: bold\">256</span><span style=\"font-weight: bold\">}</span>,\n",
       "    <span style=\"color: #008000; text-decoration-color: #008000\">'memory_per_node'</span>: <span style=\"font-weight: bold\">{</span><span style=\"color: #008000; text-decoration-color: #008000\">'set'</span>: <span style=\"color: #ff0000; text-decoration-color: #ff0000; font-style: italic\">False</span>, <span style=\"color: #008000; text-decoration-color: #008000\">'infinite'</span>: <span style=\"color: #ff0000; text-decoration-color: #ff0000; font-style: italic\">False</span>, <span style=\"color: #008000; text-decoration-color: #008000\">'number'</span>: <span style=\"color: #008080; text-decoration-color: #008080; font-weight: bold\">0</span><span style=\"font-weight: bold\">}</span>,\n",
       "    <span style=\"color: #008000; text-decoration-color: #008000\">'submit_time'</span>: <span style=\"font-weight: bold\">{</span><span style=\"color: #008000; text-decoration-color: #008000\">'set'</span>: <span style=\"color: #00ff00; text-decoration-color: #00ff00; font-style: italic\">True</span>, <span style=\"color: #008000; text-decoration-color: #008000\">'infinite'</span>: <span style=\"color: #ff0000; text-decoration-color: #ff0000; font-style: italic\">False</span>, <span style=\"color: #008000; text-decoration-color: #008000\">'number'</span>: <span style=\"color: #008080; text-decoration-color: #008080; font-weight: bold\">1716585147</span><span style=\"font-weight: bold\">}</span>,\n",
       "    <span style=\"color: #008000; text-decoration-color: #008000\">'start_time'</span>: <span style=\"font-weight: bold\">{</span><span style=\"color: #008000; text-decoration-color: #008000\">'set'</span>: <span style=\"color: #00ff00; text-decoration-color: #00ff00; font-style: italic\">True</span>, <span style=\"color: #008000; text-decoration-color: #008000\">'infinite'</span>: <span style=\"color: #ff0000; text-decoration-color: #ff0000; font-style: italic\">False</span>, <span style=\"color: #008000; text-decoration-color: #008000\">'number'</span>: <span style=\"color: #008080; text-decoration-color: #008080; font-weight: bold\">1716670860</span><span style=\"font-weight: bold\">}</span>,\n",
       "    <span style=\"color: #008000; text-decoration-color: #008000\">'end_time'</span>: <span style=\"font-weight: bold\">{</span><span style=\"color: #008000; text-decoration-color: #008000\">'set'</span>: <span style=\"color: #00ff00; text-decoration-color: #00ff00; font-style: italic\">True</span>, <span style=\"color: #008000; text-decoration-color: #008000\">'infinite'</span>: <span style=\"color: #ff0000; text-decoration-color: #ff0000; font-style: italic\">False</span>, <span style=\"color: #008000; text-decoration-color: #008000\">'number'</span>: <span style=\"color: #008080; text-decoration-color: #008080; font-weight: bold\">1716757260</span><span style=\"font-weight: bold\">}</span>,\n",
       "    <span style=\"color: #008000; text-decoration-color: #008000\">'time_limit'</span>: <span style=\"font-weight: bold\">{</span><span style=\"color: #008000; text-decoration-color: #008000\">'set'</span>: <span style=\"color: #00ff00; text-decoration-color: #00ff00; font-style: italic\">True</span>, <span style=\"color: #008000; text-decoration-color: #008000\">'infinite'</span>: <span style=\"color: #ff0000; text-decoration-color: #ff0000; font-style: italic\">False</span>, <span style=\"color: #008000; text-decoration-color: #008000\">'number'</span>: <span style=\"color: #008080; text-decoration-color: #008080; font-weight: bold\">1440</span><span style=\"font-weight: bold\">}</span>,\n",
       "    <span style=\"color: #008000; text-decoration-color: #008000\">'current_working_directory'</span>: <span style=\"color: #008000; text-decoration-color: #008000\">'/cluster/home/t119797uhn'</span>,\n",
       "    <span style=\"color: #008000; text-decoration-color: #008000\">'standard_error'</span>: <span style=\"color: #008000; text-decoration-color: #008000\">'/cluster/home/t119797uhn/slurm-11716028.out'</span>,\n",
       "    <span style=\"color: #008000; text-decoration-color: #008000\">'standard_input'</span>: <span style=\"color: #008000; text-decoration-color: #008000\">'/dev/null'</span>,\n",
       "    <span style=\"color: #008000; text-decoration-color: #008000\">'standard_output'</span>: <span style=\"color: #008000; text-decoration-color: #008000\">'/cluster/home/t119797uhn/slurm-11716028.out'</span>\n",
       "<span style=\"font-weight: bold\">}</span>\n",
       "</pre>\n"
      ],
      "text/plain": [
       "\u001b[1m{\u001b[0m\n",
       "    \u001b[32m'name'\u001b[0m: \u001b[32m'/cluster/home/t119797uhn/.local/bin/ncdu'\u001b[0m,\n",
       "    \u001b[32m'job_id'\u001b[0m: \u001b[1;36m11716028\u001b[0m,\n",
       "    \u001b[32m'job_name'\u001b[0m: \u001b[3;35mNone\u001b[0m,\n",
       "    \u001b[32m'job_state'\u001b[0m: \u001b[1m[\u001b[0m\u001b[32m'PENDING'\u001b[0m\u001b[1m]\u001b[0m,\n",
       "    \u001b[32m'state_reason'\u001b[0m: \u001b[32m'BeginTime'\u001b[0m,\n",
       "    \u001b[32m'user_id'\u001b[0m: \u001b[1;36m90322\u001b[0m,\n",
       "    \u001b[32m'user_name'\u001b[0m: \u001b[32m't119797uhn'\u001b[0m,\n",
       "    \u001b[32m'group_name'\u001b[0m: \u001b[32m'bhklab'\u001b[0m,\n",
       "    \u001b[32m'partition'\u001b[0m: \u001b[32m'all'\u001b[0m,\n",
       "    \u001b[32m'cpus'\u001b[0m: \u001b[1m{\u001b[0m\u001b[32m'set'\u001b[0m: \u001b[3;92mTrue\u001b[0m, \u001b[32m'infinite'\u001b[0m: \u001b[3;91mFalse\u001b[0m, \u001b[32m'number'\u001b[0m: \u001b[1;36m1\u001b[0m\u001b[1m}\u001b[0m,\n",
       "    \u001b[32m'cpus_per_task'\u001b[0m: \u001b[1m{\u001b[0m\u001b[32m'set'\u001b[0m: \u001b[3;92mTrue\u001b[0m, \u001b[32m'infinite'\u001b[0m: \u001b[3;91mFalse\u001b[0m, \u001b[32m'number'\u001b[0m: \u001b[1;36m1\u001b[0m\u001b[1m}\u001b[0m,\n",
       "    \u001b[32m'memory_per_cpu'\u001b[0m: \u001b[1m{\u001b[0m\u001b[32m'set'\u001b[0m: \u001b[3;92mTrue\u001b[0m, \u001b[32m'infinite'\u001b[0m: \u001b[3;91mFalse\u001b[0m, \u001b[32m'number'\u001b[0m: \u001b[1;36m256\u001b[0m\u001b[1m}\u001b[0m,\n",
       "    \u001b[32m'memory_per_node'\u001b[0m: \u001b[1m{\u001b[0m\u001b[32m'set'\u001b[0m: \u001b[3;91mFalse\u001b[0m, \u001b[32m'infinite'\u001b[0m: \u001b[3;91mFalse\u001b[0m, \u001b[32m'number'\u001b[0m: \u001b[1;36m0\u001b[0m\u001b[1m}\u001b[0m,\n",
       "    \u001b[32m'submit_time'\u001b[0m: \u001b[1m{\u001b[0m\u001b[32m'set'\u001b[0m: \u001b[3;92mTrue\u001b[0m, \u001b[32m'infinite'\u001b[0m: \u001b[3;91mFalse\u001b[0m, \u001b[32m'number'\u001b[0m: \u001b[1;36m1716585147\u001b[0m\u001b[1m}\u001b[0m,\n",
       "    \u001b[32m'start_time'\u001b[0m: \u001b[1m{\u001b[0m\u001b[32m'set'\u001b[0m: \u001b[3;92mTrue\u001b[0m, \u001b[32m'infinite'\u001b[0m: \u001b[3;91mFalse\u001b[0m, \u001b[32m'number'\u001b[0m: \u001b[1;36m1716670860\u001b[0m\u001b[1m}\u001b[0m,\n",
       "    \u001b[32m'end_time'\u001b[0m: \u001b[1m{\u001b[0m\u001b[32m'set'\u001b[0m: \u001b[3;92mTrue\u001b[0m, \u001b[32m'infinite'\u001b[0m: \u001b[3;91mFalse\u001b[0m, \u001b[32m'number'\u001b[0m: \u001b[1;36m1716757260\u001b[0m\u001b[1m}\u001b[0m,\n",
       "    \u001b[32m'time_limit'\u001b[0m: \u001b[1m{\u001b[0m\u001b[32m'set'\u001b[0m: \u001b[3;92mTrue\u001b[0m, \u001b[32m'infinite'\u001b[0m: \u001b[3;91mFalse\u001b[0m, \u001b[32m'number'\u001b[0m: \u001b[1;36m1440\u001b[0m\u001b[1m}\u001b[0m,\n",
       "    \u001b[32m'current_working_directory'\u001b[0m: \u001b[32m'/cluster/home/t119797uhn'\u001b[0m,\n",
       "    \u001b[32m'standard_error'\u001b[0m: \u001b[32m'/cluster/home/t119797uhn/slurm-11716028.out'\u001b[0m,\n",
       "    \u001b[32m'standard_input'\u001b[0m: \u001b[32m'/dev/null'\u001b[0m,\n",
       "    \u001b[32m'standard_output'\u001b[0m: \u001b[32m'/cluster/home/t119797uhn/slurm-11716028.out'\u001b[0m\n",
       "\u001b[1m}\u001b[0m\n"
      ]
     },
     "metadata": {},
     "output_type": "display_data"
    },
    {
     "data": {
      "text/html": [
       "<pre style=\"white-space:pre;overflow-x:auto;line-height:normal;font-family:Menlo,'DejaVu Sans Mono',consolas,'Courier New',monospace\"><span style=\"font-weight: bold\">{</span>\n",
       "    <span style=\"color: #008000; text-decoration-color: #008000\">'name'</span>: <span style=\"color: #008000; text-decoration-color: #008000\">'interactive'</span>,\n",
       "    <span style=\"color: #008000; text-decoration-color: #008000\">'job_id'</span>: <span style=\"color: #008080; text-decoration-color: #008080; font-weight: bold\">12224217</span>,\n",
       "    <span style=\"color: #008000; text-decoration-color: #008000\">'job_name'</span>: <span style=\"color: #800080; text-decoration-color: #800080; font-style: italic\">None</span>,\n",
       "    <span style=\"color: #008000; text-decoration-color: #008000\">'job_state'</span>: <span style=\"font-weight: bold\">[</span><span style=\"color: #008000; text-decoration-color: #008000\">'RUNNING'</span><span style=\"font-weight: bold\">]</span>,\n",
       "    <span style=\"color: #008000; text-decoration-color: #008000\">'state_reason'</span>: <span style=\"color: #008000; text-decoration-color: #008000\">'None'</span>,\n",
       "    <span style=\"color: #008000; text-decoration-color: #008000\">'user_id'</span>: <span style=\"color: #008080; text-decoration-color: #008080; font-weight: bold\">90322</span>,\n",
       "    <span style=\"color: #008000; text-decoration-color: #008000\">'user_name'</span>: <span style=\"color: #008000; text-decoration-color: #008000\">'t119797uhn'</span>,\n",
       "    <span style=\"color: #008000; text-decoration-color: #008000\">'group_name'</span>: <span style=\"color: #008000; text-decoration-color: #008000\">'bhklab'</span>,\n",
       "    <span style=\"color: #008000; text-decoration-color: #008000\">'partition'</span>: <span style=\"color: #008000; text-decoration-color: #008000\">'all'</span>,\n",
       "    <span style=\"color: #008000; text-decoration-color: #008000\">'cpus'</span>: <span style=\"font-weight: bold\">{</span><span style=\"color: #008000; text-decoration-color: #008000\">'set'</span>: <span style=\"color: #00ff00; text-decoration-color: #00ff00; font-style: italic\">True</span>, <span style=\"color: #008000; text-decoration-color: #008000\">'infinite'</span>: <span style=\"color: #ff0000; text-decoration-color: #ff0000; font-style: italic\">False</span>, <span style=\"color: #008000; text-decoration-color: #008000\">'number'</span>: <span style=\"color: #008080; text-decoration-color: #008080; font-weight: bold\">2</span><span style=\"font-weight: bold\">}</span>,\n",
       "    <span style=\"color: #008000; text-decoration-color: #008000\">'cpus_per_task'</span>: <span style=\"font-weight: bold\">{</span><span style=\"color: #008000; text-decoration-color: #008000\">'set'</span>: <span style=\"color: #00ff00; text-decoration-color: #00ff00; font-style: italic\">True</span>, <span style=\"color: #008000; text-decoration-color: #008000\">'infinite'</span>: <span style=\"color: #ff0000; text-decoration-color: #ff0000; font-style: italic\">False</span>, <span style=\"color: #008000; text-decoration-color: #008000\">'number'</span>: <span style=\"color: #008080; text-decoration-color: #008080; font-weight: bold\">2</span><span style=\"font-weight: bold\">}</span>,\n",
       "    <span style=\"color: #008000; text-decoration-color: #008000\">'memory_per_cpu'</span>: <span style=\"font-weight: bold\">{</span><span style=\"color: #008000; text-decoration-color: #008000\">'set'</span>: <span style=\"color: #ff0000; text-decoration-color: #ff0000; font-style: italic\">False</span>, <span style=\"color: #008000; text-decoration-color: #008000\">'infinite'</span>: <span style=\"color: #ff0000; text-decoration-color: #ff0000; font-style: italic\">False</span>, <span style=\"color: #008000; text-decoration-color: #008000\">'number'</span>: <span style=\"color: #008080; text-decoration-color: #008080; font-weight: bold\">0</span><span style=\"font-weight: bold\">}</span>,\n",
       "    <span style=\"color: #008000; text-decoration-color: #008000\">'memory_per_node'</span>: <span style=\"font-weight: bold\">{</span><span style=\"color: #008000; text-decoration-color: #008000\">'set'</span>: <span style=\"color: #00ff00; text-decoration-color: #00ff00; font-style: italic\">True</span>, <span style=\"color: #008000; text-decoration-color: #008000\">'infinite'</span>: <span style=\"color: #ff0000; text-decoration-color: #ff0000; font-style: italic\">False</span>, <span style=\"color: #008000; text-decoration-color: #008000\">'number'</span>: <span style=\"color: #008080; text-decoration-color: #008080; font-weight: bold\">10240</span><span style=\"font-weight: bold\">}</span>,\n",
       "    <span style=\"color: #008000; text-decoration-color: #008000\">'submit_time'</span>: <span style=\"font-weight: bold\">{</span><span style=\"color: #008000; text-decoration-color: #008000\">'set'</span>: <span style=\"color: #00ff00; text-decoration-color: #00ff00; font-style: italic\">True</span>, <span style=\"color: #008000; text-decoration-color: #008000\">'infinite'</span>: <span style=\"color: #ff0000; text-decoration-color: #ff0000; font-style: italic\">False</span>, <span style=\"color: #008000; text-decoration-color: #008000\">'number'</span>: <span style=\"color: #008080; text-decoration-color: #008080; font-weight: bold\">1716647281</span><span style=\"font-weight: bold\">}</span>,\n",
       "    <span style=\"color: #008000; text-decoration-color: #008000\">'start_time'</span>: <span style=\"font-weight: bold\">{</span><span style=\"color: #008000; text-decoration-color: #008000\">'set'</span>: <span style=\"color: #00ff00; text-decoration-color: #00ff00; font-style: italic\">True</span>, <span style=\"color: #008000; text-decoration-color: #008000\">'infinite'</span>: <span style=\"color: #ff0000; text-decoration-color: #ff0000; font-style: italic\">False</span>, <span style=\"color: #008000; text-decoration-color: #008000\">'number'</span>: <span style=\"color: #008080; text-decoration-color: #008080; font-weight: bold\">1716647286</span><span style=\"font-weight: bold\">}</span>,\n",
       "    <span style=\"color: #008000; text-decoration-color: #008000\">'end_time'</span>: <span style=\"font-weight: bold\">{</span><span style=\"color: #008000; text-decoration-color: #008000\">'set'</span>: <span style=\"color: #00ff00; text-decoration-color: #00ff00; font-style: italic\">True</span>, <span style=\"color: #008000; text-decoration-color: #008000\">'infinite'</span>: <span style=\"color: #ff0000; text-decoration-color: #ff0000; font-style: italic\">False</span>, <span style=\"color: #008000; text-decoration-color: #008000\">'number'</span>: <span style=\"color: #008080; text-decoration-color: #008080; font-weight: bold\">1716658026</span><span style=\"font-weight: bold\">}</span>,\n",
       "    <span style=\"color: #008000; text-decoration-color: #008000\">'time_limit'</span>: <span style=\"font-weight: bold\">{</span><span style=\"color: #008000; text-decoration-color: #008000\">'set'</span>: <span style=\"color: #00ff00; text-decoration-color: #00ff00; font-style: italic\">True</span>, <span style=\"color: #008000; text-decoration-color: #008000\">'infinite'</span>: <span style=\"color: #ff0000; text-decoration-color: #ff0000; font-style: italic\">False</span>, <span style=\"color: #008000; text-decoration-color: #008000\">'number'</span>: <span style=\"color: #008080; text-decoration-color: #008080; font-weight: bold\">179</span><span style=\"font-weight: bold\">}</span>,\n",
       "    <span style=\"color: #008000; text-decoration-color: #008000\">'current_working_directory'</span>: <span style=\"color: #008000; text-decoration-color: #008000\">'/cluster/home/t119797uhn'</span>,\n",
       "    <span style=\"color: #008000; text-decoration-color: #008000\">'standard_error'</span>: <span style=\"color: #008000; text-decoration-color: #008000\">''</span>,\n",
       "    <span style=\"color: #008000; text-decoration-color: #008000\">'standard_input'</span>: <span style=\"color: #008000; text-decoration-color: #008000\">''</span>,\n",
       "    <span style=\"color: #008000; text-decoration-color: #008000\">'standard_output'</span>: <span style=\"color: #008000; text-decoration-color: #008000\">''</span>\n",
       "<span style=\"font-weight: bold\">}</span>\n",
       "</pre>\n"
      ],
      "text/plain": [
       "\u001b[1m{\u001b[0m\n",
       "    \u001b[32m'name'\u001b[0m: \u001b[32m'interactive'\u001b[0m,\n",
       "    \u001b[32m'job_id'\u001b[0m: \u001b[1;36m12224217\u001b[0m,\n",
       "    \u001b[32m'job_name'\u001b[0m: \u001b[3;35mNone\u001b[0m,\n",
       "    \u001b[32m'job_state'\u001b[0m: \u001b[1m[\u001b[0m\u001b[32m'RUNNING'\u001b[0m\u001b[1m]\u001b[0m,\n",
       "    \u001b[32m'state_reason'\u001b[0m: \u001b[32m'None'\u001b[0m,\n",
       "    \u001b[32m'user_id'\u001b[0m: \u001b[1;36m90322\u001b[0m,\n",
       "    \u001b[32m'user_name'\u001b[0m: \u001b[32m't119797uhn'\u001b[0m,\n",
       "    \u001b[32m'group_name'\u001b[0m: \u001b[32m'bhklab'\u001b[0m,\n",
       "    \u001b[32m'partition'\u001b[0m: \u001b[32m'all'\u001b[0m,\n",
       "    \u001b[32m'cpus'\u001b[0m: \u001b[1m{\u001b[0m\u001b[32m'set'\u001b[0m: \u001b[3;92mTrue\u001b[0m, \u001b[32m'infinite'\u001b[0m: \u001b[3;91mFalse\u001b[0m, \u001b[32m'number'\u001b[0m: \u001b[1;36m2\u001b[0m\u001b[1m}\u001b[0m,\n",
       "    \u001b[32m'cpus_per_task'\u001b[0m: \u001b[1m{\u001b[0m\u001b[32m'set'\u001b[0m: \u001b[3;92mTrue\u001b[0m, \u001b[32m'infinite'\u001b[0m: \u001b[3;91mFalse\u001b[0m, \u001b[32m'number'\u001b[0m: \u001b[1;36m2\u001b[0m\u001b[1m}\u001b[0m,\n",
       "    \u001b[32m'memory_per_cpu'\u001b[0m: \u001b[1m{\u001b[0m\u001b[32m'set'\u001b[0m: \u001b[3;91mFalse\u001b[0m, \u001b[32m'infinite'\u001b[0m: \u001b[3;91mFalse\u001b[0m, \u001b[32m'number'\u001b[0m: \u001b[1;36m0\u001b[0m\u001b[1m}\u001b[0m,\n",
       "    \u001b[32m'memory_per_node'\u001b[0m: \u001b[1m{\u001b[0m\u001b[32m'set'\u001b[0m: \u001b[3;92mTrue\u001b[0m, \u001b[32m'infinite'\u001b[0m: \u001b[3;91mFalse\u001b[0m, \u001b[32m'number'\u001b[0m: \u001b[1;36m10240\u001b[0m\u001b[1m}\u001b[0m,\n",
       "    \u001b[32m'submit_time'\u001b[0m: \u001b[1m{\u001b[0m\u001b[32m'set'\u001b[0m: \u001b[3;92mTrue\u001b[0m, \u001b[32m'infinite'\u001b[0m: \u001b[3;91mFalse\u001b[0m, \u001b[32m'number'\u001b[0m: \u001b[1;36m1716647281\u001b[0m\u001b[1m}\u001b[0m,\n",
       "    \u001b[32m'start_time'\u001b[0m: \u001b[1m{\u001b[0m\u001b[32m'set'\u001b[0m: \u001b[3;92mTrue\u001b[0m, \u001b[32m'infinite'\u001b[0m: \u001b[3;91mFalse\u001b[0m, \u001b[32m'number'\u001b[0m: \u001b[1;36m1716647286\u001b[0m\u001b[1m}\u001b[0m,\n",
       "    \u001b[32m'end_time'\u001b[0m: \u001b[1m{\u001b[0m\u001b[32m'set'\u001b[0m: \u001b[3;92mTrue\u001b[0m, \u001b[32m'infinite'\u001b[0m: \u001b[3;91mFalse\u001b[0m, \u001b[32m'number'\u001b[0m: \u001b[1;36m1716658026\u001b[0m\u001b[1m}\u001b[0m,\n",
       "    \u001b[32m'time_limit'\u001b[0m: \u001b[1m{\u001b[0m\u001b[32m'set'\u001b[0m: \u001b[3;92mTrue\u001b[0m, \u001b[32m'infinite'\u001b[0m: \u001b[3;91mFalse\u001b[0m, \u001b[32m'number'\u001b[0m: \u001b[1;36m179\u001b[0m\u001b[1m}\u001b[0m,\n",
       "    \u001b[32m'current_working_directory'\u001b[0m: \u001b[32m'/cluster/home/t119797uhn'\u001b[0m,\n",
       "    \u001b[32m'standard_error'\u001b[0m: \u001b[32m''\u001b[0m,\n",
       "    \u001b[32m'standard_input'\u001b[0m: \u001b[32m''\u001b[0m,\n",
       "    \u001b[32m'standard_output'\u001b[0m: \u001b[32m''\u001b[0m\n",
       "\u001b[1m}\u001b[0m\n"
      ]
     },
     "metadata": {},
     "output_type": "display_data"
    },
    {
     "data": {
      "text/html": [
       "<pre style=\"white-space:pre;overflow-x:auto;line-height:normal;font-family:Menlo,'DejaVu Sans Mono',consolas,'Courier New',monospace\"><span style=\"font-weight: bold\">{</span>\n",
       "    <span style=\"color: #008000; text-decoration-color: #008000\">'name'</span>: <span style=\"color: #008000; text-decoration-color: #008000\">'AuditDMP'</span>,\n",
       "    <span style=\"color: #008000; text-decoration-color: #008000\">'job_id'</span>: <span style=\"color: #008080; text-decoration-color: #008080; font-weight: bold\">12224218</span>,\n",
       "    <span style=\"color: #008000; text-decoration-color: #008000\">'job_name'</span>: <span style=\"color: #800080; text-decoration-color: #800080; font-style: italic\">None</span>,\n",
       "    <span style=\"color: #008000; text-decoration-color: #008000\">'job_state'</span>: <span style=\"font-weight: bold\">[</span><span style=\"color: #008000; text-decoration-color: #008000\">'RUNNING'</span><span style=\"font-weight: bold\">]</span>,\n",
       "    <span style=\"color: #008000; text-decoration-color: #008000\">'state_reason'</span>: <span style=\"color: #008000; text-decoration-color: #008000\">'None'</span>,\n",
       "    <span style=\"color: #008000; text-decoration-color: #008000\">'user_id'</span>: <span style=\"color: #008080; text-decoration-color: #008080; font-weight: bold\">90322</span>,\n",
       "    <span style=\"color: #008000; text-decoration-color: #008000\">'user_name'</span>: <span style=\"color: #008000; text-decoration-color: #008000\">'t119797uhn'</span>,\n",
       "    <span style=\"color: #008000; text-decoration-color: #008000\">'group_name'</span>: <span style=\"color: #008000; text-decoration-color: #008000\">'bhklab'</span>,\n",
       "    <span style=\"color: #008000; text-decoration-color: #008000\">'partition'</span>: <span style=\"color: #008000; text-decoration-color: #008000\">'himem'</span>,\n",
       "    <span style=\"color: #008000; text-decoration-color: #008000\">'cpus'</span>: <span style=\"font-weight: bold\">{</span><span style=\"color: #008000; text-decoration-color: #008000\">'set'</span>: <span style=\"color: #00ff00; text-decoration-color: #00ff00; font-style: italic\">True</span>, <span style=\"color: #008000; text-decoration-color: #008000\">'infinite'</span>: <span style=\"color: #ff0000; text-decoration-color: #ff0000; font-style: italic\">False</span>, <span style=\"color: #008000; text-decoration-color: #008000\">'number'</span>: <span style=\"color: #008080; text-decoration-color: #008080; font-weight: bold\">1</span><span style=\"font-weight: bold\">}</span>,\n",
       "    <span style=\"color: #008000; text-decoration-color: #008000\">'cpus_per_task'</span>: <span style=\"font-weight: bold\">{</span><span style=\"color: #008000; text-decoration-color: #008000\">'set'</span>: <span style=\"color: #00ff00; text-decoration-color: #00ff00; font-style: italic\">True</span>, <span style=\"color: #008000; text-decoration-color: #008000\">'infinite'</span>: <span style=\"color: #ff0000; text-decoration-color: #ff0000; font-style: italic\">False</span>, <span style=\"color: #008000; text-decoration-color: #008000\">'number'</span>: <span style=\"color: #008080; text-decoration-color: #008080; font-weight: bold\">1</span><span style=\"font-weight: bold\">}</span>,\n",
       "    <span style=\"color: #008000; text-decoration-color: #008000\">'memory_per_cpu'</span>: <span style=\"font-weight: bold\">{</span><span style=\"color: #008000; text-decoration-color: #008000\">'set'</span>: <span style=\"color: #00ff00; text-decoration-color: #00ff00; font-style: italic\">True</span>, <span style=\"color: #008000; text-decoration-color: #008000\">'infinite'</span>: <span style=\"color: #ff0000; text-decoration-color: #ff0000; font-style: italic\">False</span>, <span style=\"color: #008000; text-decoration-color: #008000\">'number'</span>: <span style=\"color: #008080; text-decoration-color: #008080; font-weight: bold\">10240</span><span style=\"font-weight: bold\">}</span>,\n",
       "    <span style=\"color: #008000; text-decoration-color: #008000\">'memory_per_node'</span>: <span style=\"font-weight: bold\">{</span><span style=\"color: #008000; text-decoration-color: #008000\">'set'</span>: <span style=\"color: #ff0000; text-decoration-color: #ff0000; font-style: italic\">False</span>, <span style=\"color: #008000; text-decoration-color: #008000\">'infinite'</span>: <span style=\"color: #ff0000; text-decoration-color: #ff0000; font-style: italic\">False</span>, <span style=\"color: #008000; text-decoration-color: #008000\">'number'</span>: <span style=\"color: #008080; text-decoration-color: #008080; font-weight: bold\">0</span><span style=\"font-weight: bold\">}</span>,\n",
       "    <span style=\"color: #008000; text-decoration-color: #008000\">'submit_time'</span>: <span style=\"font-weight: bold\">{</span><span style=\"color: #008000; text-decoration-color: #008000\">'set'</span>: <span style=\"color: #00ff00; text-decoration-color: #00ff00; font-style: italic\">True</span>, <span style=\"color: #008000; text-decoration-color: #008000\">'infinite'</span>: <span style=\"color: #ff0000; text-decoration-color: #ff0000; font-style: italic\">False</span>, <span style=\"color: #008000; text-decoration-color: #008000\">'number'</span>: <span style=\"color: #008080; text-decoration-color: #008080; font-weight: bold\">1716647338</span><span style=\"font-weight: bold\">}</span>,\n",
       "    <span style=\"color: #008000; text-decoration-color: #008000\">'start_time'</span>: <span style=\"font-weight: bold\">{</span><span style=\"color: #008000; text-decoration-color: #008000\">'set'</span>: <span style=\"color: #00ff00; text-decoration-color: #00ff00; font-style: italic\">True</span>, <span style=\"color: #008000; text-decoration-color: #008000\">'infinite'</span>: <span style=\"color: #ff0000; text-decoration-color: #ff0000; font-style: italic\">False</span>, <span style=\"color: #008000; text-decoration-color: #008000\">'number'</span>: <span style=\"color: #008080; text-decoration-color: #008080; font-weight: bold\">1716647339</span><span style=\"font-weight: bold\">}</span>,\n",
       "    <span style=\"color: #008000; text-decoration-color: #008000\">'end_time'</span>: <span style=\"font-weight: bold\">{</span><span style=\"color: #008000; text-decoration-color: #008000\">'set'</span>: <span style=\"color: #00ff00; text-decoration-color: #00ff00; font-style: italic\">True</span>, <span style=\"color: #008000; text-decoration-color: #008000\">'infinite'</span>: <span style=\"color: #ff0000; text-decoration-color: #ff0000; font-style: italic\">False</span>, <span style=\"color: #008000; text-decoration-color: #008000\">'number'</span>: <span style=\"color: #008080; text-decoration-color: #008080; font-weight: bold\">1716658079</span><span style=\"font-weight: bold\">}</span>,\n",
       "    <span style=\"color: #008000; text-decoration-color: #008000\">'time_limit'</span>: <span style=\"font-weight: bold\">{</span><span style=\"color: #008000; text-decoration-color: #008000\">'set'</span>: <span style=\"color: #00ff00; text-decoration-color: #00ff00; font-style: italic\">True</span>, <span style=\"color: #008000; text-decoration-color: #008000\">'infinite'</span>: <span style=\"color: #ff0000; text-decoration-color: #ff0000; font-style: italic\">False</span>, <span style=\"color: #008000; text-decoration-color: #008000\">'number'</span>: <span style=\"color: #008080; text-decoration-color: #008080; font-weight: bold\">179</span><span style=\"font-weight: bold\">}</span>,\n",
       "    <span style=\"color: #008000; text-decoration-color: #008000\">'current_working_directory'</span>: <span style=\"color: #008000; text-decoration-color: #008000\">'/cluster/projects/bhklab/Scripts'</span>,\n",
       "    <span style=\"color: #008000; text-decoration-color: #008000\">'standard_error'</span>: <span style=\"color: #008000; text-decoration-color: #008000\">'/cluster/projects/bhklab/Scripts/AuditDMP_12224218.out'</span>,\n",
       "    <span style=\"color: #008000; text-decoration-color: #008000\">'standard_input'</span>: <span style=\"color: #008000; text-decoration-color: #008000\">'/dev/null'</span>,\n",
       "    <span style=\"color: #008000; text-decoration-color: #008000\">'standard_output'</span>: <span style=\"color: #008000; text-decoration-color: #008000\">'/cluster/projects/bhklab/Scripts/AuditDMP_12224218.out'</span>\n",
       "<span style=\"font-weight: bold\">}</span>\n",
       "</pre>\n"
      ],
      "text/plain": [
       "\u001b[1m{\u001b[0m\n",
       "    \u001b[32m'name'\u001b[0m: \u001b[32m'AuditDMP'\u001b[0m,\n",
       "    \u001b[32m'job_id'\u001b[0m: \u001b[1;36m12224218\u001b[0m,\n",
       "    \u001b[32m'job_name'\u001b[0m: \u001b[3;35mNone\u001b[0m,\n",
       "    \u001b[32m'job_state'\u001b[0m: \u001b[1m[\u001b[0m\u001b[32m'RUNNING'\u001b[0m\u001b[1m]\u001b[0m,\n",
       "    \u001b[32m'state_reason'\u001b[0m: \u001b[32m'None'\u001b[0m,\n",
       "    \u001b[32m'user_id'\u001b[0m: \u001b[1;36m90322\u001b[0m,\n",
       "    \u001b[32m'user_name'\u001b[0m: \u001b[32m't119797uhn'\u001b[0m,\n",
       "    \u001b[32m'group_name'\u001b[0m: \u001b[32m'bhklab'\u001b[0m,\n",
       "    \u001b[32m'partition'\u001b[0m: \u001b[32m'himem'\u001b[0m,\n",
       "    \u001b[32m'cpus'\u001b[0m: \u001b[1m{\u001b[0m\u001b[32m'set'\u001b[0m: \u001b[3;92mTrue\u001b[0m, \u001b[32m'infinite'\u001b[0m: \u001b[3;91mFalse\u001b[0m, \u001b[32m'number'\u001b[0m: \u001b[1;36m1\u001b[0m\u001b[1m}\u001b[0m,\n",
       "    \u001b[32m'cpus_per_task'\u001b[0m: \u001b[1m{\u001b[0m\u001b[32m'set'\u001b[0m: \u001b[3;92mTrue\u001b[0m, \u001b[32m'infinite'\u001b[0m: \u001b[3;91mFalse\u001b[0m, \u001b[32m'number'\u001b[0m: \u001b[1;36m1\u001b[0m\u001b[1m}\u001b[0m,\n",
       "    \u001b[32m'memory_per_cpu'\u001b[0m: \u001b[1m{\u001b[0m\u001b[32m'set'\u001b[0m: \u001b[3;92mTrue\u001b[0m, \u001b[32m'infinite'\u001b[0m: \u001b[3;91mFalse\u001b[0m, \u001b[32m'number'\u001b[0m: \u001b[1;36m10240\u001b[0m\u001b[1m}\u001b[0m,\n",
       "    \u001b[32m'memory_per_node'\u001b[0m: \u001b[1m{\u001b[0m\u001b[32m'set'\u001b[0m: \u001b[3;91mFalse\u001b[0m, \u001b[32m'infinite'\u001b[0m: \u001b[3;91mFalse\u001b[0m, \u001b[32m'number'\u001b[0m: \u001b[1;36m0\u001b[0m\u001b[1m}\u001b[0m,\n",
       "    \u001b[32m'submit_time'\u001b[0m: \u001b[1m{\u001b[0m\u001b[32m'set'\u001b[0m: \u001b[3;92mTrue\u001b[0m, \u001b[32m'infinite'\u001b[0m: \u001b[3;91mFalse\u001b[0m, \u001b[32m'number'\u001b[0m: \u001b[1;36m1716647338\u001b[0m\u001b[1m}\u001b[0m,\n",
       "    \u001b[32m'start_time'\u001b[0m: \u001b[1m{\u001b[0m\u001b[32m'set'\u001b[0m: \u001b[3;92mTrue\u001b[0m, \u001b[32m'infinite'\u001b[0m: \u001b[3;91mFalse\u001b[0m, \u001b[32m'number'\u001b[0m: \u001b[1;36m1716647339\u001b[0m\u001b[1m}\u001b[0m,\n",
       "    \u001b[32m'end_time'\u001b[0m: \u001b[1m{\u001b[0m\u001b[32m'set'\u001b[0m: \u001b[3;92mTrue\u001b[0m, \u001b[32m'infinite'\u001b[0m: \u001b[3;91mFalse\u001b[0m, \u001b[32m'number'\u001b[0m: \u001b[1;36m1716658079\u001b[0m\u001b[1m}\u001b[0m,\n",
       "    \u001b[32m'time_limit'\u001b[0m: \u001b[1m{\u001b[0m\u001b[32m'set'\u001b[0m: \u001b[3;92mTrue\u001b[0m, \u001b[32m'infinite'\u001b[0m: \u001b[3;91mFalse\u001b[0m, \u001b[32m'number'\u001b[0m: \u001b[1;36m179\u001b[0m\u001b[1m}\u001b[0m,\n",
       "    \u001b[32m'current_working_directory'\u001b[0m: \u001b[32m'/cluster/projects/bhklab/Scripts'\u001b[0m,\n",
       "    \u001b[32m'standard_error'\u001b[0m: \u001b[32m'/cluster/projects/bhklab/Scripts/AuditDMP_12224218.out'\u001b[0m,\n",
       "    \u001b[32m'standard_input'\u001b[0m: \u001b[32m'/dev/null'\u001b[0m,\n",
       "    \u001b[32m'standard_output'\u001b[0m: \u001b[32m'/cluster/projects/bhklab/Scripts/AuditDMP_12224218.out'\u001b[0m\n",
       "\u001b[1m}\u001b[0m\n"
      ]
     },
     "metadata": {},
     "output_type": "display_data"
    }
   ],
   "source": [
    "KEYS = ['name', 'job_id', 'job_name', 'job_state', 'state_reason', 'user_id', 'user_name', 'group_name', 'partition', 'cpus', 'cpus_per_task', 'memory_per_cpu', 'memory_per_node', 'submit_time', 'start_time', 'end_time', 'time_limit', 'current_working_directory', 'standard_error', 'standard_input', 'standard_output']\n",
    "\n",
    "for job in data['jobs']:\n",
    "    values = map(lambda key: job.get(key, None), KEYS)\n",
    "\n",
    "    print(dict(zip(KEYS, values)))\n"
   ]
  },
  {
   "cell_type": "code",
   "execution_count": 47,
   "metadata": {},
   "outputs": [],
   "source": [
    "\n",
    "with open('/Users/bhklab/Documents/GitHub/slurmtools/sacct_output.json') as f:\n",
    "    sacct_data = json.load(f)"
   ]
  },
  {
   "cell_type": "code",
   "execution_count": 48,
   "metadata": {},
   "outputs": [
    {
     "data": {
      "text/html": [
       "<pre style=\"white-space:pre;overflow-x:auto;line-height:normal;font-family:Menlo,'DejaVu Sans Mono',consolas,'Courier New',monospace\"><span style=\"color: #800080; text-decoration-color: #800080; font-weight: bold\">dict_keys</span><span style=\"font-weight: bold\">([</span><span style=\"color: #008000; text-decoration-color: #008000\">'account'</span>, <span style=\"color: #008000; text-decoration-color: #008000\">'comment'</span>, <span style=\"color: #008000; text-decoration-color: #008000\">'allocation_nodes'</span>, <span style=\"color: #008000; text-decoration-color: #008000\">'array'</span>, <span style=\"color: #008000; text-decoration-color: #008000\">'association'</span>, <span style=\"color: #008000; text-decoration-color: #008000\">'block'</span>, <span style=\"color: #008000; text-decoration-color: #008000\">'cluster'</span>, <span style=\"color: #008000; text-decoration-color: #008000\">'constraints'</span>, \n",
       "<span style=\"color: #008000; text-decoration-color: #008000\">'container'</span>, <span style=\"color: #008000; text-decoration-color: #008000\">'derived_exit_code'</span>, <span style=\"color: #008000; text-decoration-color: #008000\">'time'</span>, <span style=\"color: #008000; text-decoration-color: #008000\">'exit_code'</span>, <span style=\"color: #008000; text-decoration-color: #008000\">'extra'</span>, <span style=\"color: #008000; text-decoration-color: #008000\">'failed_node'</span>, <span style=\"color: #008000; text-decoration-color: #008000\">'flags'</span>, <span style=\"color: #008000; text-decoration-color: #008000\">'group'</span>, <span style=\"color: #008000; text-decoration-color: #008000\">'het'</span>, <span style=\"color: #008000; text-decoration-color: #008000\">'job_id'</span>, \n",
       "<span style=\"color: #008000; text-decoration-color: #008000\">'name'</span>, <span style=\"color: #008000; text-decoration-color: #008000\">'licenses'</span>, <span style=\"color: #008000; text-decoration-color: #008000\">'mcs'</span>, <span style=\"color: #008000; text-decoration-color: #008000\">'nodes'</span>, <span style=\"color: #008000; text-decoration-color: #008000\">'partition'</span>, <span style=\"color: #008000; text-decoration-color: #008000\">'priority'</span>, <span style=\"color: #008000; text-decoration-color: #008000\">'qos'</span>, <span style=\"color: #008000; text-decoration-color: #008000\">'required'</span>, <span style=\"color: #008000; text-decoration-color: #008000\">'kill_request_user'</span>, <span style=\"color: #008000; text-decoration-color: #008000\">'reservation'</span>,\n",
       "<span style=\"color: #008000; text-decoration-color: #008000\">'script'</span>, <span style=\"color: #008000; text-decoration-color: #008000\">'state'</span>, <span style=\"color: #008000; text-decoration-color: #008000\">'steps'</span>, <span style=\"color: #008000; text-decoration-color: #008000\">'submit_line'</span>, <span style=\"color: #008000; text-decoration-color: #008000\">'tres'</span>, <span style=\"color: #008000; text-decoration-color: #008000\">'used_gres'</span>, <span style=\"color: #008000; text-decoration-color: #008000\">'user'</span>, <span style=\"color: #008000; text-decoration-color: #008000\">'wckey'</span>, <span style=\"color: #008000; text-decoration-color: #008000\">'working_directory'</span><span style=\"font-weight: bold\">])</span>\n",
       "</pre>\n"
      ],
      "text/plain": [
       "\u001b[1;35mdict_keys\u001b[0m\u001b[1m(\u001b[0m\u001b[1m[\u001b[0m\u001b[32m'account'\u001b[0m, \u001b[32m'comment'\u001b[0m, \u001b[32m'allocation_nodes'\u001b[0m, \u001b[32m'array'\u001b[0m, \u001b[32m'association'\u001b[0m, \u001b[32m'block'\u001b[0m, \u001b[32m'cluster'\u001b[0m, \u001b[32m'constraints'\u001b[0m, \n",
       "\u001b[32m'container'\u001b[0m, \u001b[32m'derived_exit_code'\u001b[0m, \u001b[32m'time'\u001b[0m, \u001b[32m'exit_code'\u001b[0m, \u001b[32m'extra'\u001b[0m, \u001b[32m'failed_node'\u001b[0m, \u001b[32m'flags'\u001b[0m, \u001b[32m'group'\u001b[0m, \u001b[32m'het'\u001b[0m, \u001b[32m'job_id'\u001b[0m, \n",
       "\u001b[32m'name'\u001b[0m, \u001b[32m'licenses'\u001b[0m, \u001b[32m'mcs'\u001b[0m, \u001b[32m'nodes'\u001b[0m, \u001b[32m'partition'\u001b[0m, \u001b[32m'priority'\u001b[0m, \u001b[32m'qos'\u001b[0m, \u001b[32m'required'\u001b[0m, \u001b[32m'kill_request_user'\u001b[0m, \u001b[32m'reservation'\u001b[0m,\n",
       "\u001b[32m'script'\u001b[0m, \u001b[32m'state'\u001b[0m, \u001b[32m'steps'\u001b[0m, \u001b[32m'submit_line'\u001b[0m, \u001b[32m'tres'\u001b[0m, \u001b[32m'used_gres'\u001b[0m, \u001b[32m'user'\u001b[0m, \u001b[32m'wckey'\u001b[0m, \u001b[32m'working_directory'\u001b[0m\u001b[1m]\u001b[0m\u001b[1m)\u001b[0m\n"
      ]
     },
     "metadata": {},
     "output_type": "display_data"
    }
   ],
   "source": [
    "print(sacct_data['jobs'][0].keys())"
   ]
  },
  {
   "cell_type": "code",
   "execution_count": 51,
   "metadata": {},
   "outputs": [
    {
     "data": {
      "text/html": [
       "<pre style=\"white-space:pre;overflow-x:auto;line-height:normal;font-family:Menlo,'DejaVu Sans Mono',consolas,'Courier New',monospace\">Job <span style=\"color: #008080; text-decoration-color: #008080; font-weight: bold\">5</span>\n",
       "</pre>\n"
      ],
      "text/plain": [
       "Job \u001b[1;36m5\u001b[0m\n"
      ]
     },
     "metadata": {},
     "output_type": "display_data"
    },
    {
     "data": {
      "text/html": [
       "<pre style=\"white-space:pre;overflow-x:auto;line-height:normal;font-family:Menlo,'DejaVu Sans Mono',consolas,'Courier New',monospace\"><span style=\"font-weight: bold\">{</span>\n",
       "    <span style=\"color: #008000; text-decoration-color: #008000\">'association'</span>: <span style=\"font-weight: bold\">{</span><span style=\"color: #008000; text-decoration-color: #008000\">'account'</span>: <span style=\"color: #008000; text-decoration-color: #008000\">'bhklab'</span>, <span style=\"color: #008000; text-decoration-color: #008000\">'cluster'</span>: <span style=\"color: #008000; text-decoration-color: #008000\">'h4huhn'</span>, <span style=\"color: #008000; text-decoration-color: #008000\">'partition'</span>: <span style=\"color: #008000; text-decoration-color: #008000\">''</span>, <span style=\"color: #008000; text-decoration-color: #008000\">'user'</span>: <span style=\"color: #008000; text-decoration-color: #008000\">'t119797uhn'</span>, <span style=\"color: #008000; text-decoration-color: #008000\">'id'</span>: <span style=\"color: #008080; text-decoration-color: #008080; font-weight: bold\">1437</span><span style=\"font-weight: bold\">}</span>,\n",
       "    <span style=\"color: #008000; text-decoration-color: #008000\">'exit_code'</span>: <span style=\"font-weight: bold\">{</span>\n",
       "        <span style=\"color: #008000; text-decoration-color: #008000\">'status'</span>: <span style=\"font-weight: bold\">[</span><span style=\"color: #008000; text-decoration-color: #008000\">'SUCCESS'</span><span style=\"font-weight: bold\">]</span>,\n",
       "        <span style=\"color: #008000; text-decoration-color: #008000\">'return_code'</span>: <span style=\"font-weight: bold\">{</span><span style=\"color: #008000; text-decoration-color: #008000\">'set'</span>: <span style=\"color: #00ff00; text-decoration-color: #00ff00; font-style: italic\">True</span>, <span style=\"color: #008000; text-decoration-color: #008000\">'infinite'</span>: <span style=\"color: #ff0000; text-decoration-color: #ff0000; font-style: italic\">False</span>, <span style=\"color: #008000; text-decoration-color: #008000\">'number'</span>: <span style=\"color: #008080; text-decoration-color: #008080; font-weight: bold\">0</span><span style=\"font-weight: bold\">}</span>,\n",
       "        <span style=\"color: #008000; text-decoration-color: #008000\">'signal'</span>: <span style=\"font-weight: bold\">{</span><span style=\"color: #008000; text-decoration-color: #008000\">'id'</span>: <span style=\"font-weight: bold\">{</span><span style=\"color: #008000; text-decoration-color: #008000\">'set'</span>: <span style=\"color: #ff0000; text-decoration-color: #ff0000; font-style: italic\">False</span>, <span style=\"color: #008000; text-decoration-color: #008000\">'infinite'</span>: <span style=\"color: #ff0000; text-decoration-color: #ff0000; font-style: italic\">False</span>, <span style=\"color: #008000; text-decoration-color: #008000\">'number'</span>: <span style=\"color: #008080; text-decoration-color: #008080; font-weight: bold\">0</span><span style=\"font-weight: bold\">}</span>, <span style=\"color: #008000; text-decoration-color: #008000\">'name'</span>: <span style=\"color: #008000; text-decoration-color: #008000\">''</span><span style=\"font-weight: bold\">}</span>\n",
       "    <span style=\"font-weight: bold\">}</span>,\n",
       "    <span style=\"color: #008000; text-decoration-color: #008000\">'derived_exit_code'</span>: <span style=\"font-weight: bold\">{</span>\n",
       "        <span style=\"color: #008000; text-decoration-color: #008000\">'status'</span>: <span style=\"font-weight: bold\">[</span><span style=\"color: #008000; text-decoration-color: #008000\">'SUCCESS'</span><span style=\"font-weight: bold\">]</span>,\n",
       "        <span style=\"color: #008000; text-decoration-color: #008000\">'return_code'</span>: <span style=\"font-weight: bold\">{</span><span style=\"color: #008000; text-decoration-color: #008000\">'set'</span>: <span style=\"color: #00ff00; text-decoration-color: #00ff00; font-style: italic\">True</span>, <span style=\"color: #008000; text-decoration-color: #008000\">'infinite'</span>: <span style=\"color: #ff0000; text-decoration-color: #ff0000; font-style: italic\">False</span>, <span style=\"color: #008000; text-decoration-color: #008000\">'number'</span>: <span style=\"color: #008080; text-decoration-color: #008080; font-weight: bold\">0</span><span style=\"font-weight: bold\">}</span>,\n",
       "        <span style=\"color: #008000; text-decoration-color: #008000\">'signal'</span>: <span style=\"font-weight: bold\">{</span><span style=\"color: #008000; text-decoration-color: #008000\">'id'</span>: <span style=\"font-weight: bold\">{</span><span style=\"color: #008000; text-decoration-color: #008000\">'set'</span>: <span style=\"color: #ff0000; text-decoration-color: #ff0000; font-style: italic\">False</span>, <span style=\"color: #008000; text-decoration-color: #008000\">'infinite'</span>: <span style=\"color: #ff0000; text-decoration-color: #ff0000; font-style: italic\">False</span>, <span style=\"color: #008000; text-decoration-color: #008000\">'number'</span>: <span style=\"color: #008080; text-decoration-color: #008080; font-weight: bold\">0</span><span style=\"font-weight: bold\">}</span>, <span style=\"color: #008000; text-decoration-color: #008000\">'name'</span>: <span style=\"color: #008000; text-decoration-color: #008000\">''</span><span style=\"font-weight: bold\">}</span>\n",
       "    <span style=\"font-weight: bold\">}</span>,\n",
       "    <span style=\"color: #008000; text-decoration-color: #008000\">'flags'</span>: <span style=\"font-weight: bold\">[</span><span style=\"color: #008000; text-decoration-color: #008000\">'STARTED_ON_SCHEDULE'</span>, <span style=\"color: #008000; text-decoration-color: #008000\">'START_RECEIVED'</span><span style=\"font-weight: bold\">]</span>,\n",
       "    <span style=\"color: #008000; text-decoration-color: #008000\">'time'</span>: <span style=\"font-weight: bold\">{</span>\n",
       "        <span style=\"color: #008000; text-decoration-color: #008000\">'elapsed'</span>: <span style=\"color: #008080; text-decoration-color: #008080; font-weight: bold\">675</span>,\n",
       "        <span style=\"color: #008000; text-decoration-color: #008000\">'eligible'</span>: <span style=\"color: #008080; text-decoration-color: #008080; font-weight: bold\">1716647338</span>,\n",
       "        <span style=\"color: #008000; text-decoration-color: #008000\">'end'</span>: <span style=\"color: #008080; text-decoration-color: #008080; font-weight: bold\">0</span>,\n",
       "        <span style=\"color: #008000; text-decoration-color: #008000\">'start'</span>: <span style=\"color: #008080; text-decoration-color: #008080; font-weight: bold\">1716647339</span>,\n",
       "        <span style=\"color: #008000; text-decoration-color: #008000\">'submission'</span>: <span style=\"color: #008080; text-decoration-color: #008080; font-weight: bold\">1716647338</span>,\n",
       "        <span style=\"color: #008000; text-decoration-color: #008000\">'suspended'</span>: <span style=\"color: #008080; text-decoration-color: #008080; font-weight: bold\">0</span>,\n",
       "        <span style=\"color: #008000; text-decoration-color: #008000\">'system'</span>: <span style=\"font-weight: bold\">{</span><span style=\"color: #008000; text-decoration-color: #008000\">'seconds'</span>: <span style=\"color: #008080; text-decoration-color: #008080; font-weight: bold\">0</span>, <span style=\"color: #008000; text-decoration-color: #008000\">'microseconds'</span>: <span style=\"color: #008080; text-decoration-color: #008080; font-weight: bold\">0</span><span style=\"font-weight: bold\">}</span>,\n",
       "        <span style=\"color: #008000; text-decoration-color: #008000\">'limit'</span>: <span style=\"font-weight: bold\">{</span><span style=\"color: #008000; text-decoration-color: #008000\">'set'</span>: <span style=\"color: #00ff00; text-decoration-color: #00ff00; font-style: italic\">True</span>, <span style=\"color: #008000; text-decoration-color: #008000\">'infinite'</span>: <span style=\"color: #ff0000; text-decoration-color: #ff0000; font-style: italic\">False</span>, <span style=\"color: #008000; text-decoration-color: #008000\">'number'</span>: <span style=\"color: #008080; text-decoration-color: #008080; font-weight: bold\">179</span><span style=\"font-weight: bold\">}</span>,\n",
       "        <span style=\"color: #008000; text-decoration-color: #008000\">'total'</span>: <span style=\"font-weight: bold\">{</span><span style=\"color: #008000; text-decoration-color: #008000\">'seconds'</span>: <span style=\"color: #008080; text-decoration-color: #008080; font-weight: bold\">0</span>, <span style=\"color: #008000; text-decoration-color: #008000\">'microseconds'</span>: <span style=\"color: #008080; text-decoration-color: #008080; font-weight: bold\">0</span><span style=\"font-weight: bold\">}</span>,\n",
       "        <span style=\"color: #008000; text-decoration-color: #008000\">'user'</span>: <span style=\"font-weight: bold\">{</span><span style=\"color: #008000; text-decoration-color: #008000\">'seconds'</span>: <span style=\"color: #008080; text-decoration-color: #008080; font-weight: bold\">0</span>, <span style=\"color: #008000; text-decoration-color: #008000\">'microseconds'</span>: <span style=\"color: #008080; text-decoration-color: #008080; font-weight: bold\">0</span><span style=\"font-weight: bold\">}</span>\n",
       "    <span style=\"font-weight: bold\">}</span>,\n",
       "    <span style=\"color: #008000; text-decoration-color: #008000\">'job_id'</span>: <span style=\"color: #008080; text-decoration-color: #008080; font-weight: bold\">12224218</span>,\n",
       "    <span style=\"color: #008000; text-decoration-color: #008000\">'name'</span>: <span style=\"color: #008000; text-decoration-color: #008000\">'AuditDMP'</span>,\n",
       "    <span style=\"color: #008000; text-decoration-color: #008000\">'submit_line'</span>: <span style=\"color: #008000; text-decoration-color: #008000\">'sbatch ./AuditDMP_sbatch.sh'</span>,\n",
       "    <span style=\"color: #008000; text-decoration-color: #008000\">'partition'</span>: <span style=\"color: #008000; text-decoration-color: #008000\">'himem'</span>,\n",
       "    <span style=\"color: #008000; text-decoration-color: #008000\">'nodes'</span>: <span style=\"color: #008000; text-decoration-color: #008000\">'node131'</span>,\n",
       "    <span style=\"color: #008000; text-decoration-color: #008000\">'state'</span>: <span style=\"font-weight: bold\">{</span><span style=\"color: #008000; text-decoration-color: #008000\">'current'</span>: <span style=\"font-weight: bold\">[</span><span style=\"color: #008000; text-decoration-color: #008000\">'RUNNING'</span><span style=\"font-weight: bold\">]</span>, <span style=\"color: #008000; text-decoration-color: #008000\">'reason'</span>: <span style=\"color: #008000; text-decoration-color: #008000\">'None'</span><span style=\"font-weight: bold\">}</span>,\n",
       "    <span style=\"color: #008000; text-decoration-color: #008000\">'tres'</span>: <span style=\"font-weight: bold\">{</span>\n",
       "        <span style=\"color: #008000; text-decoration-color: #008000\">'allocated'</span>: <span style=\"font-weight: bold\">[</span>\n",
       "            <span style=\"font-weight: bold\">{</span><span style=\"color: #008000; text-decoration-color: #008000\">'type'</span>: <span style=\"color: #008000; text-decoration-color: #008000\">'cpu'</span>, <span style=\"color: #008000; text-decoration-color: #008000\">'name'</span>: <span style=\"color: #008000; text-decoration-color: #008000\">''</span>, <span style=\"color: #008000; text-decoration-color: #008000\">'id'</span>: <span style=\"color: #008080; text-decoration-color: #008080; font-weight: bold\">1</span>, <span style=\"color: #008000; text-decoration-color: #008000\">'count'</span>: <span style=\"color: #008080; text-decoration-color: #008080; font-weight: bold\">1</span><span style=\"font-weight: bold\">}</span>,\n",
       "            <span style=\"font-weight: bold\">{</span><span style=\"color: #008000; text-decoration-color: #008000\">'type'</span>: <span style=\"color: #008000; text-decoration-color: #008000\">'mem'</span>, <span style=\"color: #008000; text-decoration-color: #008000\">'name'</span>: <span style=\"color: #008000; text-decoration-color: #008000\">''</span>, <span style=\"color: #008000; text-decoration-color: #008000\">'id'</span>: <span style=\"color: #008080; text-decoration-color: #008080; font-weight: bold\">2</span>, <span style=\"color: #008000; text-decoration-color: #008000\">'count'</span>: <span style=\"color: #008080; text-decoration-color: #008080; font-weight: bold\">10240</span><span style=\"font-weight: bold\">}</span>,\n",
       "            <span style=\"font-weight: bold\">{</span><span style=\"color: #008000; text-decoration-color: #008000\">'type'</span>: <span style=\"color: #008000; text-decoration-color: #008000\">'energy'</span>, <span style=\"color: #008000; text-decoration-color: #008000\">'name'</span>: <span style=\"color: #008000; text-decoration-color: #008000\">''</span>, <span style=\"color: #008000; text-decoration-color: #008000\">'id'</span>: <span style=\"color: #008080; text-decoration-color: #008080; font-weight: bold\">3</span>, <span style=\"color: #008000; text-decoration-color: #008000\">'count'</span>: <span style=\"color: #008080; text-decoration-color: #008080; font-weight: bold\">-2</span><span style=\"font-weight: bold\">}</span>,\n",
       "            <span style=\"font-weight: bold\">{</span><span style=\"color: #008000; text-decoration-color: #008000\">'type'</span>: <span style=\"color: #008000; text-decoration-color: #008000\">'node'</span>, <span style=\"color: #008000; text-decoration-color: #008000\">'name'</span>: <span style=\"color: #008000; text-decoration-color: #008000\">''</span>, <span style=\"color: #008000; text-decoration-color: #008000\">'id'</span>: <span style=\"color: #008080; text-decoration-color: #008080; font-weight: bold\">4</span>, <span style=\"color: #008000; text-decoration-color: #008000\">'count'</span>: <span style=\"color: #008080; text-decoration-color: #008080; font-weight: bold\">1</span><span style=\"font-weight: bold\">}</span>,\n",
       "            <span style=\"font-weight: bold\">{</span><span style=\"color: #008000; text-decoration-color: #008000\">'type'</span>: <span style=\"color: #008000; text-decoration-color: #008000\">'billing'</span>, <span style=\"color: #008000; text-decoration-color: #008000\">'name'</span>: <span style=\"color: #008000; text-decoration-color: #008000\">''</span>, <span style=\"color: #008000; text-decoration-color: #008000\">'id'</span>: <span style=\"color: #008080; text-decoration-color: #008080; font-weight: bold\">5</span>, <span style=\"color: #008000; text-decoration-color: #008000\">'count'</span>: <span style=\"color: #008080; text-decoration-color: #008080; font-weight: bold\">2</span><span style=\"font-weight: bold\">}</span>\n",
       "        <span style=\"font-weight: bold\">]</span>,\n",
       "        <span style=\"color: #008000; text-decoration-color: #008000\">'requested'</span>: <span style=\"font-weight: bold\">[</span>\n",
       "            <span style=\"font-weight: bold\">{</span><span style=\"color: #008000; text-decoration-color: #008000\">'type'</span>: <span style=\"color: #008000; text-decoration-color: #008000\">'cpu'</span>, <span style=\"color: #008000; text-decoration-color: #008000\">'name'</span>: <span style=\"color: #008000; text-decoration-color: #008000\">''</span>, <span style=\"color: #008000; text-decoration-color: #008000\">'id'</span>: <span style=\"color: #008080; text-decoration-color: #008080; font-weight: bold\">1</span>, <span style=\"color: #008000; text-decoration-color: #008000\">'count'</span>: <span style=\"color: #008080; text-decoration-color: #008080; font-weight: bold\">1</span><span style=\"font-weight: bold\">}</span>,\n",
       "            <span style=\"font-weight: bold\">{</span><span style=\"color: #008000; text-decoration-color: #008000\">'type'</span>: <span style=\"color: #008000; text-decoration-color: #008000\">'mem'</span>, <span style=\"color: #008000; text-decoration-color: #008000\">'name'</span>: <span style=\"color: #008000; text-decoration-color: #008000\">''</span>, <span style=\"color: #008000; text-decoration-color: #008000\">'id'</span>: <span style=\"color: #008080; text-decoration-color: #008080; font-weight: bold\">2</span>, <span style=\"color: #008000; text-decoration-color: #008000\">'count'</span>: <span style=\"color: #008080; text-decoration-color: #008080; font-weight: bold\">10240</span><span style=\"font-weight: bold\">}</span>,\n",
       "            <span style=\"font-weight: bold\">{</span><span style=\"color: #008000; text-decoration-color: #008000\">'type'</span>: <span style=\"color: #008000; text-decoration-color: #008000\">'node'</span>, <span style=\"color: #008000; text-decoration-color: #008000\">'name'</span>: <span style=\"color: #008000; text-decoration-color: #008000\">''</span>, <span style=\"color: #008000; text-decoration-color: #008000\">'id'</span>: <span style=\"color: #008080; text-decoration-color: #008080; font-weight: bold\">4</span>, <span style=\"color: #008000; text-decoration-color: #008000\">'count'</span>: <span style=\"color: #008080; text-decoration-color: #008080; font-weight: bold\">1</span><span style=\"font-weight: bold\">}</span>,\n",
       "            <span style=\"font-weight: bold\">{</span><span style=\"color: #008000; text-decoration-color: #008000\">'type'</span>: <span style=\"color: #008000; text-decoration-color: #008000\">'billing'</span>, <span style=\"color: #008000; text-decoration-color: #008000\">'name'</span>: <span style=\"color: #008000; text-decoration-color: #008000\">''</span>, <span style=\"color: #008000; text-decoration-color: #008000\">'id'</span>: <span style=\"color: #008080; text-decoration-color: #008080; font-weight: bold\">5</span>, <span style=\"color: #008000; text-decoration-color: #008000\">'count'</span>: <span style=\"color: #008080; text-decoration-color: #008080; font-weight: bold\">2</span><span style=\"font-weight: bold\">}</span>\n",
       "        <span style=\"font-weight: bold\">]</span>\n",
       "    <span style=\"font-weight: bold\">}</span>,\n",
       "    <span style=\"color: #008000; text-decoration-color: #008000\">'working_directory'</span>: <span style=\"color: #008000; text-decoration-color: #008000\">'/cluster/projects/bhklab/Scripts'</span>\n",
       "<span style=\"font-weight: bold\">}</span>\n",
       "</pre>\n"
      ],
      "text/plain": [
       "\u001b[1m{\u001b[0m\n",
       "    \u001b[32m'association'\u001b[0m: \u001b[1m{\u001b[0m\u001b[32m'account'\u001b[0m: \u001b[32m'bhklab'\u001b[0m, \u001b[32m'cluster'\u001b[0m: \u001b[32m'h4huhn'\u001b[0m, \u001b[32m'partition'\u001b[0m: \u001b[32m''\u001b[0m, \u001b[32m'user'\u001b[0m: \u001b[32m't119797uhn'\u001b[0m, \u001b[32m'id'\u001b[0m: \u001b[1;36m1437\u001b[0m\u001b[1m}\u001b[0m,\n",
       "    \u001b[32m'exit_code'\u001b[0m: \u001b[1m{\u001b[0m\n",
       "        \u001b[32m'status'\u001b[0m: \u001b[1m[\u001b[0m\u001b[32m'SUCCESS'\u001b[0m\u001b[1m]\u001b[0m,\n",
       "        \u001b[32m'return_code'\u001b[0m: \u001b[1m{\u001b[0m\u001b[32m'set'\u001b[0m: \u001b[3;92mTrue\u001b[0m, \u001b[32m'infinite'\u001b[0m: \u001b[3;91mFalse\u001b[0m, \u001b[32m'number'\u001b[0m: \u001b[1;36m0\u001b[0m\u001b[1m}\u001b[0m,\n",
       "        \u001b[32m'signal'\u001b[0m: \u001b[1m{\u001b[0m\u001b[32m'id'\u001b[0m: \u001b[1m{\u001b[0m\u001b[32m'set'\u001b[0m: \u001b[3;91mFalse\u001b[0m, \u001b[32m'infinite'\u001b[0m: \u001b[3;91mFalse\u001b[0m, \u001b[32m'number'\u001b[0m: \u001b[1;36m0\u001b[0m\u001b[1m}\u001b[0m, \u001b[32m'name'\u001b[0m: \u001b[32m''\u001b[0m\u001b[1m}\u001b[0m\n",
       "    \u001b[1m}\u001b[0m,\n",
       "    \u001b[32m'derived_exit_code'\u001b[0m: \u001b[1m{\u001b[0m\n",
       "        \u001b[32m'status'\u001b[0m: \u001b[1m[\u001b[0m\u001b[32m'SUCCESS'\u001b[0m\u001b[1m]\u001b[0m,\n",
       "        \u001b[32m'return_code'\u001b[0m: \u001b[1m{\u001b[0m\u001b[32m'set'\u001b[0m: \u001b[3;92mTrue\u001b[0m, \u001b[32m'infinite'\u001b[0m: \u001b[3;91mFalse\u001b[0m, \u001b[32m'number'\u001b[0m: \u001b[1;36m0\u001b[0m\u001b[1m}\u001b[0m,\n",
       "        \u001b[32m'signal'\u001b[0m: \u001b[1m{\u001b[0m\u001b[32m'id'\u001b[0m: \u001b[1m{\u001b[0m\u001b[32m'set'\u001b[0m: \u001b[3;91mFalse\u001b[0m, \u001b[32m'infinite'\u001b[0m: \u001b[3;91mFalse\u001b[0m, \u001b[32m'number'\u001b[0m: \u001b[1;36m0\u001b[0m\u001b[1m}\u001b[0m, \u001b[32m'name'\u001b[0m: \u001b[32m''\u001b[0m\u001b[1m}\u001b[0m\n",
       "    \u001b[1m}\u001b[0m,\n",
       "    \u001b[32m'flags'\u001b[0m: \u001b[1m[\u001b[0m\u001b[32m'STARTED_ON_SCHEDULE'\u001b[0m, \u001b[32m'START_RECEIVED'\u001b[0m\u001b[1m]\u001b[0m,\n",
       "    \u001b[32m'time'\u001b[0m: \u001b[1m{\u001b[0m\n",
       "        \u001b[32m'elapsed'\u001b[0m: \u001b[1;36m675\u001b[0m,\n",
       "        \u001b[32m'eligible'\u001b[0m: \u001b[1;36m1716647338\u001b[0m,\n",
       "        \u001b[32m'end'\u001b[0m: \u001b[1;36m0\u001b[0m,\n",
       "        \u001b[32m'start'\u001b[0m: \u001b[1;36m1716647339\u001b[0m,\n",
       "        \u001b[32m'submission'\u001b[0m: \u001b[1;36m1716647338\u001b[0m,\n",
       "        \u001b[32m'suspended'\u001b[0m: \u001b[1;36m0\u001b[0m,\n",
       "        \u001b[32m'system'\u001b[0m: \u001b[1m{\u001b[0m\u001b[32m'seconds'\u001b[0m: \u001b[1;36m0\u001b[0m, \u001b[32m'microseconds'\u001b[0m: \u001b[1;36m0\u001b[0m\u001b[1m}\u001b[0m,\n",
       "        \u001b[32m'limit'\u001b[0m: \u001b[1m{\u001b[0m\u001b[32m'set'\u001b[0m: \u001b[3;92mTrue\u001b[0m, \u001b[32m'infinite'\u001b[0m: \u001b[3;91mFalse\u001b[0m, \u001b[32m'number'\u001b[0m: \u001b[1;36m179\u001b[0m\u001b[1m}\u001b[0m,\n",
       "        \u001b[32m'total'\u001b[0m: \u001b[1m{\u001b[0m\u001b[32m'seconds'\u001b[0m: \u001b[1;36m0\u001b[0m, \u001b[32m'microseconds'\u001b[0m: \u001b[1;36m0\u001b[0m\u001b[1m}\u001b[0m,\n",
       "        \u001b[32m'user'\u001b[0m: \u001b[1m{\u001b[0m\u001b[32m'seconds'\u001b[0m: \u001b[1;36m0\u001b[0m, \u001b[32m'microseconds'\u001b[0m: \u001b[1;36m0\u001b[0m\u001b[1m}\u001b[0m\n",
       "    \u001b[1m}\u001b[0m,\n",
       "    \u001b[32m'job_id'\u001b[0m: \u001b[1;36m12224218\u001b[0m,\n",
       "    \u001b[32m'name'\u001b[0m: \u001b[32m'AuditDMP'\u001b[0m,\n",
       "    \u001b[32m'submit_line'\u001b[0m: \u001b[32m'sbatch ./AuditDMP_sbatch.sh'\u001b[0m,\n",
       "    \u001b[32m'partition'\u001b[0m: \u001b[32m'himem'\u001b[0m,\n",
       "    \u001b[32m'nodes'\u001b[0m: \u001b[32m'node131'\u001b[0m,\n",
       "    \u001b[32m'state'\u001b[0m: \u001b[1m{\u001b[0m\u001b[32m'current'\u001b[0m: \u001b[1m[\u001b[0m\u001b[32m'RUNNING'\u001b[0m\u001b[1m]\u001b[0m, \u001b[32m'reason'\u001b[0m: \u001b[32m'None'\u001b[0m\u001b[1m}\u001b[0m,\n",
       "    \u001b[32m'tres'\u001b[0m: \u001b[1m{\u001b[0m\n",
       "        \u001b[32m'allocated'\u001b[0m: \u001b[1m[\u001b[0m\n",
       "            \u001b[1m{\u001b[0m\u001b[32m'type'\u001b[0m: \u001b[32m'cpu'\u001b[0m, \u001b[32m'name'\u001b[0m: \u001b[32m''\u001b[0m, \u001b[32m'id'\u001b[0m: \u001b[1;36m1\u001b[0m, \u001b[32m'count'\u001b[0m: \u001b[1;36m1\u001b[0m\u001b[1m}\u001b[0m,\n",
       "            \u001b[1m{\u001b[0m\u001b[32m'type'\u001b[0m: \u001b[32m'mem'\u001b[0m, \u001b[32m'name'\u001b[0m: \u001b[32m''\u001b[0m, \u001b[32m'id'\u001b[0m: \u001b[1;36m2\u001b[0m, \u001b[32m'count'\u001b[0m: \u001b[1;36m10240\u001b[0m\u001b[1m}\u001b[0m,\n",
       "            \u001b[1m{\u001b[0m\u001b[32m'type'\u001b[0m: \u001b[32m'energy'\u001b[0m, \u001b[32m'name'\u001b[0m: \u001b[32m''\u001b[0m, \u001b[32m'id'\u001b[0m: \u001b[1;36m3\u001b[0m, \u001b[32m'count'\u001b[0m: \u001b[1;36m-2\u001b[0m\u001b[1m}\u001b[0m,\n",
       "            \u001b[1m{\u001b[0m\u001b[32m'type'\u001b[0m: \u001b[32m'node'\u001b[0m, \u001b[32m'name'\u001b[0m: \u001b[32m''\u001b[0m, \u001b[32m'id'\u001b[0m: \u001b[1;36m4\u001b[0m, \u001b[32m'count'\u001b[0m: \u001b[1;36m1\u001b[0m\u001b[1m}\u001b[0m,\n",
       "            \u001b[1m{\u001b[0m\u001b[32m'type'\u001b[0m: \u001b[32m'billing'\u001b[0m, \u001b[32m'name'\u001b[0m: \u001b[32m''\u001b[0m, \u001b[32m'id'\u001b[0m: \u001b[1;36m5\u001b[0m, \u001b[32m'count'\u001b[0m: \u001b[1;36m2\u001b[0m\u001b[1m}\u001b[0m\n",
       "        \u001b[1m]\u001b[0m,\n",
       "        \u001b[32m'requested'\u001b[0m: \u001b[1m[\u001b[0m\n",
       "            \u001b[1m{\u001b[0m\u001b[32m'type'\u001b[0m: \u001b[32m'cpu'\u001b[0m, \u001b[32m'name'\u001b[0m: \u001b[32m''\u001b[0m, \u001b[32m'id'\u001b[0m: \u001b[1;36m1\u001b[0m, \u001b[32m'count'\u001b[0m: \u001b[1;36m1\u001b[0m\u001b[1m}\u001b[0m,\n",
       "            \u001b[1m{\u001b[0m\u001b[32m'type'\u001b[0m: \u001b[32m'mem'\u001b[0m, \u001b[32m'name'\u001b[0m: \u001b[32m''\u001b[0m, \u001b[32m'id'\u001b[0m: \u001b[1;36m2\u001b[0m, \u001b[32m'count'\u001b[0m: \u001b[1;36m10240\u001b[0m\u001b[1m}\u001b[0m,\n",
       "            \u001b[1m{\u001b[0m\u001b[32m'type'\u001b[0m: \u001b[32m'node'\u001b[0m, \u001b[32m'name'\u001b[0m: \u001b[32m''\u001b[0m, \u001b[32m'id'\u001b[0m: \u001b[1;36m4\u001b[0m, \u001b[32m'count'\u001b[0m: \u001b[1;36m1\u001b[0m\u001b[1m}\u001b[0m,\n",
       "            \u001b[1m{\u001b[0m\u001b[32m'type'\u001b[0m: \u001b[32m'billing'\u001b[0m, \u001b[32m'name'\u001b[0m: \u001b[32m''\u001b[0m, \u001b[32m'id'\u001b[0m: \u001b[1;36m5\u001b[0m, \u001b[32m'count'\u001b[0m: \u001b[1;36m2\u001b[0m\u001b[1m}\u001b[0m\n",
       "        \u001b[1m]\u001b[0m\n",
       "    \u001b[1m}\u001b[0m,\n",
       "    \u001b[32m'working_directory'\u001b[0m: \u001b[32m'/cluster/projects/bhklab/Scripts'\u001b[0m\n",
       "\u001b[1m}\u001b[0m\n"
      ]
     },
     "metadata": {},
     "output_type": "display_data"
    }
   ],
   "source": [
    "SACCT_KEYS = [\n",
    "  'association',\n",
    "  'exit_code',\n",
    "  'derived_exit_code',\n",
    "  'flags', # list \n",
    "  'time',\n",
    "  'job_id',\n",
    "  'name',\n",
    "  'submit_line',\n",
    "  'partition',\n",
    "  'nodes',\n",
    "  'state',\n",
    "  'tres',\n",
    "  'working_directory',\n",
    "]\n",
    "\n",
    "for i, job  in enumerate(sacct_data['jobs']):\n",
    "    \n",
    "    values = map(lambda key: job.get(key, None), SACCT_KEYS)\n",
    "    if(i==4):\n",
    "        print(f'Job {i+1}')\n",
    "        print(dict(zip(SACCT_KEYS, values)))\n",
    "        break\n",
    "    \n"
   ]
  },
  {
   "cell_type": "code",
   "execution_count": null,
   "metadata": {},
   "outputs": [],
   "source": []
  }
 ],
 "metadata": {
  "kernelspec": {
   "display_name": "Python 3",
   "language": "python",
   "name": "python3"
  },
  "language_info": {
   "codemirror_mode": {
    "name": "ipython",
    "version": 3
   },
   "file_extension": ".py",
   "mimetype": "text/x-python",
   "name": "python",
   "nbconvert_exporter": "python",
   "pygments_lexer": "ipython3",
   "version": "3.12.3"
  }
 },
 "nbformat": 4,
 "nbformat_minor": 2
}
